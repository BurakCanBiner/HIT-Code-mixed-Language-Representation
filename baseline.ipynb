{
 "cells": [
  {
   "cell_type": "code",
   "execution_count": 17,
   "id": "32814141",
   "metadata": {},
   "outputs": [
    {
     "name": "stderr",
     "output_type": "stream",
     "text": [
      "┌ Info: Precompiling Metrics [cb9f3049-315b-4f05-b90c-a8adaec4da78]\n",
      "└ @ Base loading.jl:1342\n",
      "WARNING: Method definition onehot_encode(Any, Any) in module Metrics at C:\\Users\\brkcn\\.julia\\packages\\Metrics\\NPCgV\\src\\Classification.jl:5 overwritten on the same line (check for duplicate calls to `include`).\n",
      "  ** incremental compilation may be fatally broken for this module **\n",
      "\n",
      "WARNING: Method definition bin_to_cat(Any, Any) in module Metrics at C:\\Users\\brkcn\\.julia\\packages\\Metrics\\NPCgV\\src\\Classification.jl:18 overwritten on the same line (check for duplicate calls to `include`).\n",
      "  ** incremental compilation may be fatally broken for this module **\n",
      "\n",
      "\u001b[33m\u001b[1m┌ \u001b[22m\u001b[39m\u001b[33m\u001b[1mWarning: \u001b[22m\u001b[39mReplacing docs for `Metrics.bin_to_cat :: Tuple{Any, Any}` in module `Metrics`\n",
      "\u001b[33m\u001b[1m└ \u001b[22m\u001b[39m\u001b[90m@ Base.Docs docs\\Docs.jl:240\u001b[39m\n",
      "WARNING: Method definition onecold(Any) in module Metrics at C:\\Users\\brkcn\\.julia\\packages\\Metrics\\NPCgV\\src\\Classification.jl:27 overwritten on the same line (check for duplicate calls to `include`).\n",
      "  ** incremental compilation may be fatally broken for this module **\n",
      "\n",
      "WARNING: Method definition confusion_matrix(Any, Any) in module Metrics at C:\\Users\\brkcn\\.julia\\packages\\Metrics\\NPCgV\\src\\Classification.jl:41 overwritten on the same line (check for duplicate calls to `include`).\n",
      "  ** incremental compilation may be fatally broken for this module **\n",
      "\n",
      "\u001b[33m\u001b[1m┌ \u001b[22m\u001b[39m\u001b[33m\u001b[1mWarning: \u001b[22m\u001b[39mReplacing docs for `Metrics.confusion_matrix :: Tuple{Any, Any}` in module `Metrics`\n",
      "\u001b[33m\u001b[1m└ \u001b[22m\u001b[39m\u001b[90m@ Base.Docs docs\\Docs.jl:240\u001b[39m\n",
      "WARNING: Method definition TFPN(Any, Any) in module Metrics at C:\\Users\\brkcn\\.julia\\packages\\Metrics\\NPCgV\\src\\Classification.jl:53 overwritten on the same line (check for duplicate calls to `include`).\n",
      "  ** incremental compilation may be fatally broken for this module **\n",
      "\n",
      "\u001b[33m\u001b[1m┌ \u001b[22m\u001b[39m\u001b[33m\u001b[1mWarning: \u001b[22m\u001b[39mReplacing docs for `Metrics.TFPN :: Tuple{Any, Any}` in module `Metrics`\n",
      "\u001b[33m\u001b[1m└ \u001b[22m\u001b[39m\u001b[90m@ Base.Docs docs\\Docs.jl:240\u001b[39m\n",
      "WARNING: Method definition binary_accuracy(Any, Any) in module Metrics at C:\\Users\\brkcn\\.julia\\packages\\Metrics\\NPCgV\\src\\Classification.jl:73 overwritten on the same line (check for duplicate calls to `include`).\n",
      "  ** incremental compilation may be fatally broken for this module **\n",
      "\n",
      "WARNING: Method definition binary_accuracy##kw(Any, typeof(Metrics.binary_accuracy), Any, Any) in module Metrics at C:\\Users\\brkcn\\.julia\\packages\\Metrics\\NPCgV\\src\\Classification.jl:73 overwritten on the same line (check for duplicate calls to `include`).\n",
      "  ** incremental compilation may be fatally broken for this module **\n",
      "\n",
      "\u001b[33m\u001b[1m┌ \u001b[22m\u001b[39m\u001b[33m\u001b[1mWarning: \u001b[22m\u001b[39mReplacing docs for `Metrics.binary_accuracy :: Tuple{Any, Any}` in module `Metrics`\n",
      "\u001b[33m\u001b[1m└ \u001b[22m\u001b[39m\u001b[90m@ Base.Docs docs\\Docs.jl:240\u001b[39m\n",
      "WARNING: Method definition categorical_accuracy(Any, Any) in module Metrics at C:\\Users\\brkcn\\.julia\\packages\\Metrics\\NPCgV\\src\\Classification.jl:83 overwritten on the same line (check for duplicate calls to `include`).\n",
      "  ** incremental compilation may be fatally broken for this module **\n",
      "\n",
      "\u001b[33m\u001b[1m┌ \u001b[22m\u001b[39m\u001b[33m\u001b[1mWarning: \u001b[22m\u001b[39mReplacing docs for `Metrics.categorical_accuracy :: Tuple{Any, Any}` in module `Metrics`\n",
      "\u001b[33m\u001b[1m└ \u001b[22m\u001b[39m\u001b[90m@ Base.Docs docs\\Docs.jl:240\u001b[39m\n",
      "WARNING: Method definition sparse_categorical(Any, Any) in module Metrics at C:\\Users\\brkcn\\.julia\\packages\\Metrics\\NPCgV\\src\\Classification.jl:93 overwritten on the same line (check for duplicate calls to `include`).\n",
      "  ** incremental compilation may be fatally broken for this module **\n",
      "\n",
      "\u001b[33m\u001b[1m┌ \u001b[22m\u001b[39m\u001b[33m\u001b[1mWarning: \u001b[22m\u001b[39mReplacing docs for `Metrics.sparse_categorical :: Tuple{Any, Any}` in module `Metrics`\n",
      "\u001b[33m\u001b[1m└ \u001b[22m\u001b[39m\u001b[90m@ Base.Docs docs\\Docs.jl:240\u001b[39m\n",
      "WARNING: Method definition top_k_categorical(Any, Any) in module Metrics at C:\\Users\\brkcn\\.julia\\packages\\Metrics\\NPCgV\\src\\Classification.jl:103 overwritten on the same line (check for duplicate calls to `include`).\n",
      "  ** incremental compilation may be fatally broken for this module **\n",
      "\n",
      "WARNING: Method definition top_k_categorical##kw(Any, typeof(Metrics.top_k_categorical), Any, Any) in module Metrics at C:\\Users\\brkcn\\.julia\\packages\\Metrics\\NPCgV\\src\\Classification.jl:103 overwritten on the same line (check for duplicate calls to `include`).\n",
      "  ** incremental compilation may be fatally broken for this module **\n",
      "\n",
      "\u001b[33m\u001b[1m┌ \u001b[22m\u001b[39m\u001b[33m\u001b[1mWarning: \u001b[22m\u001b[39mReplacing docs for `Metrics.top_k_categorical :: Tuple{Any, Any}` in module `Metrics`\n",
      "\u001b[33m\u001b[1m└ \u001b[22m\u001b[39m\u001b[90m@ Base.Docs docs\\Docs.jl:240\u001b[39m\n",
      "WARNING: Method definition top_k_sparse_categorical(Any, Any) in module Metrics at C:\\Users\\brkcn\\.julia\\packages\\Metrics\\NPCgV\\src\\Classification.jl:125 overwritten on the same line (check for duplicate calls to `include`).\n",
      "  ** incremental compilation may be fatally broken for this module **\n",
      "\n",
      "WARNING: Method definition top_k_sparse_categorical##kw(Any, typeof(Metrics.top_k_sparse_categorical), Any, Any) in module Metrics at C:\\Users\\brkcn\\.julia\\packages\\Metrics\\NPCgV\\src\\Classification.jl:125 overwritten on the same line (check for duplicate calls to `include`).\n",
      "  ** incremental compilation may be fatally broken for this module **\n",
      "\n",
      "\u001b[33m\u001b[1m┌ \u001b[22m\u001b[39m\u001b[33m\u001b[1mWarning: \u001b[22m\u001b[39mReplacing docs for `Metrics.top_k_sparse_categorical :: Tuple{Any, Any}` in module `Metrics`\n",
      "\u001b[33m\u001b[1m└ \u001b[22m\u001b[39m\u001b[90m@ Base.Docs docs\\Docs.jl:240\u001b[39m\n",
      "WARNING: Method definition calc_instances(Any) in module Metrics at C:\\Users\\brkcn\\.julia\\packages\\Metrics\\NPCgV\\src\\Classification.jl:140 overwritten on the same line (check for duplicate calls to `include`).\n",
      "  ** incremental compilation may be fatally broken for this module **\n",
      "\n",
      "WARNING: Method definition precision(Any, Any) in module Metrics at C:\\Users\\brkcn\\.julia\\packages\\Metrics\\NPCgV\\src\\Classification.jl:161 overwritten on the same line (check for duplicate calls to `include`).\n",
      "  ** incremental compilation may be fatally broken for this module **\n",
      "\n",
      "WARNING: Method definition precision##kw(Any, typeof(Metrics.precision), Any, Any) in module Metrics at C:\\Users\\brkcn\\.julia\\packages\\Metrics\\NPCgV\\src\\Classification.jl:161 overwritten on the same line (check for duplicate calls to `include`).\n",
      "  ** incremental compilation may be fatally broken for this module **\n",
      "\n",
      "\u001b[33m\u001b[1m┌ \u001b[22m\u001b[39m\u001b[33m\u001b[1mWarning: \u001b[22m\u001b[39mReplacing docs for `Metrics.precision :: Tuple{Any, Any}` in module `Metrics`\n",
      "\u001b[33m\u001b[1m└ \u001b[22m\u001b[39m\u001b[90m@ Base.Docs docs\\Docs.jl:240\u001b[39m\n",
      "WARNING: Method definition recall(Any, Any) in module Metrics at C:\\Users\\brkcn\\.julia\\packages\\Metrics\\NPCgV\\src\\Classification.jl:194 overwritten on the same line (check for duplicate calls to `include`).\n",
      "  ** incremental compilation may be fatally broken for this module **\n",
      "\n",
      "WARNING: Method definition recall##kw(Any, typeof(Metrics.recall), Any, Any) in module Metrics at C:\\Users\\brkcn\\.julia\\packages\\Metrics\\NPCgV\\src\\Classification.jl:194 overwritten on the same line (check for duplicate calls to `include`).\n",
      "  ** incremental compilation may be fatally broken for this module **\n",
      "\n",
      "\u001b[33m\u001b[1m┌ \u001b[22m\u001b[39m\u001b[33m\u001b[1mWarning: \u001b[22m\u001b[39mReplacing docs for `Metrics.recall :: Tuple{Any, Any}` in module `Metrics`\n",
      "\u001b[33m\u001b[1m└ \u001b[22m\u001b[39m\u001b[90m@ Base.Docs docs\\Docs.jl:240\u001b[39m\n",
      "WARNING: Method definition f_beta_score(Any, Any) in module Metrics at C:\\Users\\brkcn\\.julia\\packages\\Metrics\\NPCgV\\src\\Classification.jl:229 overwritten on the same line (check for duplicate calls to `include`).\n",
      "  ** incremental compilation may be fatally broken for this module **\n",
      "\n",
      "WARNING: Method definition f_beta_score##kw(Any, typeof(Metrics.f_beta_score), Any, Any) in module Metrics at C:\\Users\\brkcn\\.julia\\packages\\Metrics\\NPCgV\\src\\Classification.jl:229 overwritten on the same line (check for duplicate calls to `include`).\n",
      "  ** incremental compilation may be fatally broken for this module **\n",
      "\n",
      "\u001b[33m\u001b[1m┌ \u001b[22m\u001b[39m\u001b[33m\u001b[1mWarning: \u001b[22m\u001b[39mReplacing docs for `Metrics.f_beta_score :: Tuple{Any, Any}` in module `Metrics`\n",
      "\u001b[33m\u001b[1m└ \u001b[22m\u001b[39m\u001b[90m@ Base.Docs docs\\Docs.jl:240\u001b[39m\n",
      "WARNING: Method definition specificity(Any, Any) in module Metrics at C:\\Users\\brkcn\\.julia\\packages\\Metrics\\NPCgV\\src\\Classification.jl:247 overwritten on the same line (check for duplicate calls to `include`).\n",
      "  ** incremental compilation may be fatally broken for this module **\n",
      "\n",
      "WARNING: Method definition specificity##kw(Any, typeof(Metrics.specificity), Any, Any) in module Metrics at C:\\Users\\brkcn\\.julia\\packages\\Metrics\\NPCgV\\src\\Classification.jl:247 overwritten on the same line (check for duplicate calls to `include`).\n",
      "  ** incremental compilation may be fatally broken for this module **\n",
      "\n",
      "\u001b[33m\u001b[1m┌ \u001b[22m\u001b[39m\u001b[33m\u001b[1mWarning: \u001b[22m\u001b[39mReplacing docs for `Metrics.specificity :: Tuple{Any, Any}` in module `Metrics`\n",
      "\u001b[33m\u001b[1m└ \u001b[22m\u001b[39m\u001b[90m@ Base.Docs docs\\Docs.jl:240\u001b[39m\n",
      "WARNING: Method definition false_alarm_rate(Any, Any) in module Metrics at C:\\Users\\brkcn\\.julia\\packages\\Metrics\\NPCgV\\src\\Classification.jl:280 overwritten on the same line (check for duplicate calls to `include`).\n",
      "  ** incremental compilation may be fatally broken for this module **\n",
      "\n",
      "WARNING: Method definition false_alarm_rate##kw(Any, typeof(Metrics.false_alarm_rate), Any, Any) in module Metrics at C:\\Users\\brkcn\\.julia\\packages\\Metrics\\NPCgV\\src\\Classification.jl:280 overwritten on the same line (check for duplicate calls to `include`).\n",
      "  ** incremental compilation may be fatally broken for this module **\n",
      "\n",
      "\u001b[33m\u001b[1m┌ \u001b[22m\u001b[39m\u001b[33m\u001b[1mWarning: \u001b[22m\u001b[39mReplacing docs for `Metrics.false_alarm_rate :: Tuple{Any, Any}` in module `Metrics`\n",
      "\u001b[33m\u001b[1m└ \u001b[22m\u001b[39m\u001b[90m@ Base.Docs docs\\Docs.jl:240\u001b[39m\n",
      "WARNING: Method definition cohen_kappa(Any, Any) in module Metrics at C:\\Users\\brkcn\\.julia\\packages\\Metrics\\NPCgV\\src\\Classification.jl:293 overwritten on the same line (check for duplicate calls to `include`).\n",
      "  ** incremental compilation may be fatally broken for this module **\n",
      "\n",
      "\u001b[33m\u001b[1m┌ \u001b[22m\u001b[39m\u001b[33m\u001b[1mWarning: \u001b[22m\u001b[39mReplacing docs for `Metrics.cohen_kappa :: Tuple{Any, Any}` in module `Metrics`\n",
      "\u001b[33m\u001b[1m└ \u001b[22m\u001b[39m\u001b[90m@ Base.Docs docs\\Docs.jl:240\u001b[39m\n",
      "WARNING: Method definition statsfromTFPN(Any, Any, Any, Any) in module Metrics at C:\\Users\\brkcn\\.julia\\packages\\Metrics\\NPCgV\\src\\Classification.jl:316 overwritten on the same line (check for duplicate calls to `include`).\n",
      "  ** incremental compilation may be fatally broken for this module **\n",
      "\n",
      "\u001b[33m\u001b[1m┌ \u001b[22m\u001b[39m\u001b[33m\u001b[1mWarning: \u001b[22m\u001b[39mReplacing docs for `Metrics.statsfromTFPN :: NTuple{4, Any}` in module `Metrics`\n",
      "\u001b[33m\u001b[1m└ \u001b[22m\u001b[39m\u001b[90m@ Base.Docs docs\\Docs.jl:240\u001b[39m\n"
     ]
    },
    {
     "name": "stderr",
     "output_type": "stream",
     "text": [
      "WARNING: Method definition classwise_stats(Any, Any) in module Metrics at C:\\Users\\brkcn\\.julia\\packages\\Metrics\\NPCgV\\src\\Classification.jl:337 overwritten on the same line (check for duplicate calls to `include`).\n",
      "  ** incremental compilation may be fatally broken for this module **\n",
      "\n",
      "\u001b[33m\u001b[1m┌ \u001b[22m\u001b[39m\u001b[33m\u001b[1mWarning: \u001b[22m\u001b[39mReplacing docs for `Metrics.classwise_stats :: Tuple{Any, Any}` in module `Metrics`\n",
      "\u001b[33m\u001b[1m└ \u001b[22m\u001b[39m\u001b[90m@ Base.Docs docs\\Docs.jl:240\u001b[39m\n",
      "WARNING: Method definition global_stats(Any, Any) in module Metrics at C:\\Users\\brkcn\\.julia\\packages\\Metrics\\NPCgV\\src\\Classification.jl:353 overwritten on the same line (check for duplicate calls to `include`).\n",
      "  ** incremental compilation may be fatally broken for this module **\n",
      "\n",
      "WARNING: Method definition global_stats##kw(Any, typeof(Metrics.global_stats), Any, Any) in module Metrics at C:\\Users\\brkcn\\.julia\\packages\\Metrics\\NPCgV\\src\\Classification.jl:353 overwritten on the same line (check for duplicate calls to `include`).\n",
      "  ** incremental compilation may be fatally broken for this module **\n",
      "\n",
      "\u001b[33m\u001b[1m┌ \u001b[22m\u001b[39m\u001b[33m\u001b[1mWarning: \u001b[22m\u001b[39mReplacing docs for `Metrics.global_stats :: Tuple{Any, Any}` in module `Metrics`\n",
      "\u001b[33m\u001b[1m└ \u001b[22m\u001b[39m\u001b[90m@ Base.Docs docs\\Docs.jl:240\u001b[39m\n",
      "┌ Error: Cannot use NVML, as it failed to initialize\n",
      "│   exception = (ErrorException(\"could not load symbol \\\"nvmlInitWithFlags\\\":\\nThe specified procedure could not be found. \"), Union{Ptr{Nothing}, Base.InterpreterIP}[Ptr{Nothing} @0x00000000026b48e5, Ptr{Nothing} @0x0000000002743c09, Ptr{Nothing} @0x00000000027441e7, Ptr{Nothing} @0x00000000026b4324, Ptr{Nothing} @0x00000000143ab888, Ptr{Nothing} @0x00000000143abc53, Ptr{Nothing} @0x000000001439f3ce, Ptr{Nothing} @0x000000001439f4f7, Ptr{Nothing} @0x000000000275f1e0, Ptr{Nothing} @0x00000000027557b0, Ptr{Nothing} @0x000000001438637c, Ptr{Nothing} @0x0000000014387616, Ptr{Nothing} @0x00000000143897d9, Ptr{Nothing} @0x000000001438b8b3, Ptr{Nothing} @0x000000001438c593, Ptr{Nothing} @0x000000000275ec66, Ptr{Nothing} @0x000000000276098c, Ptr{Nothing} @0x0000000002760561, Ptr{Nothing} @0x00000000027614af, Ptr{Nothing} @0x000000001435c555, Ptr{Nothing} @0x000000001435c92f, Ptr{Nothing} @0x0000000014359518, Ptr{Nothing} @0x0000000002736186, Ptr{Nothing} @0x0000000014326192, Ptr{Nothing} @0x00000000143263c6, Ptr{Nothing} @0x00000000143263e3, Ptr{Nothing} @0x00000000027474e4])\n",
      "└ @ CUDA.NVML C:\\Users\\brkcn\\.julia\\packages\\CUDA\\YpW0k\\lib\\nvml\\NVML.jl:39\n"
     ]
    }
   ],
   "source": [
    "using Statistics\n",
    "using Metrics\n",
    "using Knet"
   ]
  },
  {
   "cell_type": "code",
   "execution_count": 20,
   "id": "125beb44",
   "metadata": {},
   "outputs": [],
   "source": [
    "# Reading data for sentiment classification\n",
    "# it's already divided into train/dev/test\n",
    "\n",
    "function read_sentiment_data(file_path)\n",
    "    labels = []\n",
    "    data = []\n",
    "    try\n",
    "        open(file_path) do f\n",
    "            while ! eof(f)      \n",
    "                s = readline(f) \n",
    "                s = lowercase.(s)\n",
    "                s = replace.(s, r\"[,.:;?!()]\" => \"\")\n",
    "                s_with_spaces = replace(s, '\\t' => ' ') \n",
    "                temp = split(s_with_spaces,\" \")\n",
    "                push!(labels,temp[end-1])\n",
    "                push!(data,temp[2:end-2])\n",
    "            end\n",
    "        end\n",
    "    catch \n",
    "        println(\"file doesn't exist\")\n",
    "    end\n",
    "    return data, labels\n",
    "end\n",
    "\n",
    "path = raw\"C:\\Users\\brkcn\\HIT-ACL2021-Codemixed-Representation\\data\\malayalam\\malayalam_train.tsv\"\n",
    "#path = raw\"C:\\Users\\brkcn\\HIT-ACL2021-Codemixed-Representation\\data\\tamil\\tamil_train.tsv\"\n",
    "#path = raw\"C:\\Users\\brkcn\\HIT-ACL2021-Codemixed-Representation\\data\\hindi_sentiment\\IIITH_Codemixed.txt\"\n",
    "sentiment_data, sentiment_labels = read_sentiment_data(path);\n",
    "\n"
   ]
  },
  {
   "cell_type": "code",
   "execution_count": 3,
   "id": "d2a6f481",
   "metadata": {},
   "outputs": [
    {
     "name": "stdout",
     "output_type": "stream",
     "text": [
      "SubString{String}[\"a\", \"new\", \"roll\", \"of\", \"blotting\", \"paper\", \"has\", \"been\", \"ordered\"]"
     ]
    }
   ],
   "source": [
    "# Reading data for machine translation\n",
    "# it's already divided into train/dev/test\n",
    "function read_mt_data(file_path)\n",
    "    data = []\n",
    "    try\n",
    "        open(file_path) do f\n",
    "            while ! eof(f)      \n",
    "                s = readline(f) \n",
    "                s = lowercase.(s)\n",
    "                s = replace.(s, r\"[,.:;?!()]\" => \"\")\n",
    "                s = replace(s, '\\t' => ' ') \n",
    "                s = split(s,\" \")\n",
    "                push!(data,s)\n",
    "            end\n",
    "        end\n",
    "    catch \n",
    "        println(\"file doesn't exist\")\n",
    "    end\n",
    "    data\n",
    "end\n",
    "\n",
    "path = raw\"C:\\Users\\brkcn\\HIT-ACL2021-Codemixed-Representation\\data\\IITPatna-CodeMixedMT\\train.src\"\n",
    "mt_data= read_mt_data(path);\n"
   ]
  },
  {
   "cell_type": "code",
   "execution_count": 16,
   "id": "401ce070",
   "metadata": {},
   "outputs": [
    {
     "name": "stdout",
     "output_type": "stream",
     "text": [
      "mains\n",
      "en\n",
      "N_NN\n"
     ]
    }
   ],
   "source": [
    "# Reading data for pos tagging\n",
    "function read_pos_tagging_data(file_path)\n",
    "    words = []\n",
    "    langs = []\n",
    "    tags = []\n",
    "    try\n",
    "        open(file_path) do f\n",
    "            while ! eof(f)\n",
    "                s = readline(f) \n",
    "                if length(s) != 0\n",
    "                    if s[1] != '@'\n",
    "                        s = replace(s, '\\t' => ' ') \n",
    "                        s = split(s,\" \")\n",
    "                        push!(words,s[1])\n",
    "                        push!(langs,s[2])\n",
    "                        push!(tags,s[3])\n",
    "                    end\n",
    "                end\n",
    "            end\n",
    "        end\n",
    "    catch \n",
    "        println(\"error during reading pos tagging data\")\n",
    "    end\n",
    "    words, langs, tags\n",
    "end\n",
    "path = raw\"C:\\Users\\brkcn\\HIT-ACL2021-Codemixed-Representation\\data\\bengali_POS\\TWT_BN_EN_FN.txt\"\n",
    "pos_word, pos_langs, pos_tags = read_pos_tagging_data(path);\n",
    "\n"
   ]
  },
  {
   "cell_type": "code",
   "execution_count": 21,
   "id": "ee8ae17d",
   "metadata": {},
   "outputs": [
    {
     "data": {
      "text/plain": [
       "4-element Vector{Any}:\n",
       " 4\n",
       " 1\n",
       " 3\n",
       " 1"
      ]
     },
     "execution_count": 21,
     "metadata": {},
     "output_type": "execute_result"
    }
   ],
   "source": [
    "#Randomly predcting for now\n",
    "function pred_sentiment(X)\n",
    "    preds = []\n",
    "    for sentence in X\n",
    "        push!(preds,rand(1:4))\n",
    "    end\n",
    "    preds\n",
    "end\n",
    "\n",
    "\n",
    "function vec_labels(y)\n",
    "    num_labels = []\n",
    "    for label in y\n",
    "        if label == \"positive\"\n",
    "            push!(num_labels,1)\n",
    "        elseif label == \"negative\"\n",
    "            push!(num_labels,2)\n",
    "        elseif label == \"mixed_feelings\"\n",
    "            push!(num_labels,3)\n",
    "        else\n",
    "            push!(num_labels,4)\n",
    "        end\n",
    "    end\n",
    "    num_labels\n",
    "end\n",
    "\n"
   ]
  },
  {
   "cell_type": "code",
   "execution_count": 35,
   "id": "44d0890d",
   "metadata": {},
   "outputs": [
    {
     "name": "stdout",
     "output_type": "stream",
     "text": [
      "sentiment f1 score: 0.21899710633845815\n",
      "sentiment precision: 0.24714519576778163\n",
      "sentiment sentiment recall: 0.2553106750175261\n"
     ]
    }
   ],
   "source": [
    "function calculate_metrics(pred,y,num_classes)\n",
    "    y_len = length(y)\n",
    "    conf_mat = zeros(Int16,num_classes,num_classes)\n",
    "    for i in 1:y_len\n",
    "        conf_mat[pred[i],y[i]] += 1\n",
    "    end\n",
    "    positives = []\n",
    "    for j in 1:num_classes\n",
    "        push!(positives,conf_mat[j,j])\n",
    "    end\n",
    "    recall = positives./sum(conf_mat,dims=1)'\n",
    "    precision = positives./sum(conf_mat,dims=2)\n",
    "    f1_score =  2*(precision.*recall)./(precision.+recall)\n",
    "    mean(f1_score),mean(precision),mean(recall)\n",
    "end\n",
    "\n",
    "\n",
    "y = vec_labels(sentiment_labels)\n",
    "pred_y  = pred_sentiment(sentiment_data)\n",
    "sentiment_f1_score, sentiment_precision, sentiment_recall =  calculate_metrics(pred_y,y,4)\n",
    "\n",
    "\n",
    "\n",
    "println(\"sentiment f1 score: $sentiment_f1_score\")\n",
    "println(\"sentiment precision: $sentiment_precision\")\n",
    "println(\"sentiment sentiment recall: $sentiment_recall\")"
   ]
  },
  {
   "cell_type": "code",
   "execution_count": 42,
   "id": "497941b2",
   "metadata": {},
   "outputs": [
    {
     "name": "stdout",
     "output_type": "stream",
     "text": [
      "bleu score: 0.7253666236200924\n",
      "rogue score dict:\n"
     ]
    },
    {
     "data": {
      "text/plain": [
       "OrderedCollections.OrderedDict{String, Float64} with 9 entries:\n",
       "  \"rouge_1 / f_score\" => 0.75\n",
       "  \"rouge_1 / r_score\" => 0.75\n",
       "  \"rouge_1 / p_score\" => 0.75\n",
       "  \"rouge_2 / f_score\" => 0.333333\n",
       "  \"rouge_2 / r_score\" => 0.333333\n",
       "  \"rouge_2 / p_score\" => 0.333333\n",
       "  \"rouge_l / f_score\" => 0.75\n",
       "  \"rouge_l / r_score\" => 0.75\n",
       "  \"rouge_l / p_score\" => 0.75"
      ]
     },
     "execution_count": 42,
     "metadata": {},
     "output_type": "execute_result"
    }
   ],
   "source": [
    "# Testing bleu and rogue metrics for machine translation task later on.\n",
    "\n",
    "ref_corpus = [[\"Example of bleu score\"], [\"This is an apple\"]]\n",
    "translated_corpus = [\"Example to bleu score\", \"This no a apple\"]\n",
    "bleu_result = bleu_score(ref_corpus,translated_corpus)\n",
    "println(\"bleu score: $(bleu_result[1])\")\n",
    "\n",
    "hypothesis = [\"Example for bleu score\", \"This cz an apple\"]\n",
    "ref_corpus = [\"Example of bleu score\", \"This is an apple\"]\n",
    "println(\"rogue score dict:\")\n",
    "rouge_out = rouge(hypothesis, ref_corpus)\n"
   ]
  },
  {
   "cell_type": "code",
   "execution_count": null,
   "id": "83af63c1",
   "metadata": {},
   "outputs": [],
   "source": []
  }
 ],
 "metadata": {
  "kernelspec": {
   "display_name": "Julia 1.6.3",
   "language": "julia",
   "name": "julia-1.6"
  },
  "language_info": {
   "file_extension": ".jl",
   "mimetype": "application/julia",
   "name": "julia",
   "version": "1.6.3"
  }
 },
 "nbformat": 4,
 "nbformat_minor": 5
}
