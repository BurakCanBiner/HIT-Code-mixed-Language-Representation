{
 "cells": [
  {
   "cell_type": "code",
   "execution_count": 2,
   "id": "32814141",
   "metadata": {},
   "outputs": [],
   "source": [
    "using Statistics\n",
    "using Metrics\n",
    "using Knet"
   ]
  },
  {
   "cell_type": "code",
   "execution_count": 3,
   "id": "125beb44",
   "metadata": {},
   "outputs": [],
   "source": [
    "# Reading data for sentiment classification\n",
    "# it's already divided into train/dev/test\n",
    "\n",
    "function read_sentiment_data(file_path)\n",
    "    labels = []\n",
    "    data = []\n",
    "    try\n",
    "        open(file_path) do f\n",
    "            while ! eof(f)      \n",
    "                s = readline(f) \n",
    "                s = lowercase.(s)\n",
    "                s = replace.(s, r\"[,.:;?!()]\" => \"\")\n",
    "                s_with_spaces = replace(s, '\\t' => ' ') \n",
    "                temp = split(s_with_spaces,\" \")\n",
    "                push!(labels,temp[end-1])\n",
    "                push!(data,temp[2:end-2])\n",
    "            end\n",
    "        end\n",
    "    catch \n",
    "        println(\"file doesn't exist\")\n",
    "    end\n",
    "    return data, labels\n",
    "end\n",
    "\n",
    "path = raw\"C:\\Users\\brkcn\\HIT-ACL2021-Codemixed-Representation\\data\\malayalam\\malayalam_train.tsv\"\n",
    "#path = raw\"C:\\Users\\brkcn\\HIT-ACL2021-Codemixed-Representation\\data\\tamil\\tamil_train.tsv\"\n",
    "#path = raw\"C:\\Users\\brkcn\\HIT-ACL2021-Codemixed-Representation\\data\\hindi_sentiment\\IIITH_Codemixed.txt\"\n",
    "sentiment_data, sentiment_labels = read_sentiment_data(path);\n",
    "\n"
   ]
  },
  {
   "cell_type": "code",
   "execution_count": 4,
   "id": "d2a6f481",
   "metadata": {},
   "outputs": [],
   "source": [
    "# Reading data for machine translation\n",
    "# it's already divided into train/dev/test\n",
    "function read_mt_data(file_path)\n",
    "    data = []\n",
    "    try\n",
    "        open(file_path) do f\n",
    "            while ! eof(f)      \n",
    "                s = readline(f) \n",
    "                s = lowercase.(s)\n",
    "                s = replace.(s, r\"[,.:;?!()]\" => \"\")\n",
    "                s = replace(s, '\\t' => ' ') \n",
    "                s = split(s,\" \")\n",
    "                push!(data,s)\n",
    "            end\n",
    "        end\n",
    "    catch \n",
    "        println(\"file doesn't exist\")\n",
    "    end\n",
    "    data\n",
    "end\n",
    "\n",
    "path = raw\"C:\\Users\\brkcn\\HIT-ACL2021-Codemixed-Representation\\data\\IITPatna-CodeMixedMT\\train.src\"\n",
    "mt_data= read_mt_data(path);\n"
   ]
  },
  {
   "cell_type": "code",
   "execution_count": 5,
   "id": "401ce070",
   "metadata": {},
   "outputs": [],
   "source": [
    "# Reading data for pos tagging\n",
    "function read_pos_tagging_data(file_path)\n",
    "    words = []\n",
    "    langs = []\n",
    "    tags = []\n",
    "    try\n",
    "        open(file_path) do f\n",
    "            while ! eof(f)\n",
    "                s = readline(f) \n",
    "                if length(s) != 0\n",
    "                    if s[1] != '@'\n",
    "                        s = replace(s, '\\t' => ' ') \n",
    "                        s = split(s,\" \")\n",
    "                        push!(words,s[1])\n",
    "                        push!(langs,s[2])\n",
    "                        push!(tags,s[3])\n",
    "                    end\n",
    "                end\n",
    "            end\n",
    "        end\n",
    "    catch \n",
    "        println(\"error during reading pos tagging data\")\n",
    "    end\n",
    "    words, langs, tags\n",
    "end\n",
    "path = raw\"C:\\Users\\brkcn\\HIT-ACL2021-Codemixed-Representation\\data\\bengali_POS\\TWT_BN_EN_FN.txt\"\n",
    "pos_word, pos_langs, pos_tags = read_pos_tagging_data(path);\n",
    "\n"
   ]
  },
  {
   "cell_type": "code",
   "execution_count": 6,
   "id": "ee8ae17d",
   "metadata": {},
   "outputs": [
    {
     "data": {
      "text/plain": [
       "vec_labels (generic function with 1 method)"
      ]
     },
     "execution_count": 6,
     "metadata": {},
     "output_type": "execute_result"
    }
   ],
   "source": [
    "#Randomly predcting for now\n",
    "function pred_sentiment(X)\n",
    "    preds = []\n",
    "    for sentence in X\n",
    "        push!(preds,rand(1:4))\n",
    "    end\n",
    "    preds\n",
    "end\n",
    "\n",
    "\n",
    "function vec_labels(y)\n",
    "    num_labels = []\n",
    "    for label in y\n",
    "        if label == \"positive\"\n",
    "            push!(num_labels,1)\n",
    "        elseif label == \"negative\"\n",
    "            push!(num_labels,2)\n",
    "        elseif label == \"mixed_feelings\"\n",
    "            push!(num_labels,3)\n",
    "        else\n",
    "            push!(num_labels,4)\n",
    "        end\n",
    "    end\n",
    "    num_labels\n",
    "end\n",
    "\n"
   ]
  },
  {
   "cell_type": "code",
   "execution_count": 35,
   "id": "44d0890d",
   "metadata": {},
   "outputs": [
    {
     "name": "stdout",
     "output_type": "stream",
     "text": [
      "sentiment f1 score: 0.21899710633845815\n",
      "sentiment precision: 0.24714519576778163\n",
      "sentiment sentiment recall: 0.2553106750175261\n"
     ]
    }
   ],
   "source": [
    "function calculate_metrics(pred,y,num_classes)\n",
    "    y_len = length(y)\n",
    "    conf_mat = zeros(Int16,num_classes,num_classes)\n",
    "    for i in 1:y_len\n",
    "        conf_mat[pred[i],y[i]] += 1\n",
    "    end\n",
    "    positives = []\n",
    "    for j in 1:num_classes\n",
    "        push!(positives,conf_mat[j,j])\n",
    "    end\n",
    "    recall = positives./sum(conf_mat,dims=1)'\n",
    "    precision = positives./sum(conf_mat,dims=2)\n",
    "    f1_score =  2*(precision.*recall)./(precision.+recall)\n",
    "    mean(f1_score),mean(precision),mean(recall)\n",
    "end\n",
    "\n",
    "\n",
    "y = vec_labels(sentiment_labels)\n",
    "pred_y  = pred_sentiment(sentiment_data)\n",
    "sentiment_f1_score, sentiment_precision, sentiment_recall =  calculate_metrics(pred_y,y,4)\n",
    "\n",
    "\n",
    "\n",
    "println(\"sentiment f1 score: $sentiment_f1_score\")\n",
    "println(\"sentiment precision: $sentiment_precision\")\n",
    "println(\"sentiment sentiment recall: $sentiment_recall\")"
   ]
  },
  {
   "cell_type": "code",
   "execution_count": 42,
   "id": "497941b2",
   "metadata": {},
   "outputs": [
    {
     "name": "stdout",
     "output_type": "stream",
     "text": [
      "bleu score: 0.7253666236200924\n",
      "rogue score dict:\n"
     ]
    },
    {
     "data": {
      "text/plain": [
       "OrderedCollections.OrderedDict{String, Float64} with 9 entries:\n",
       "  \"rouge_1 / f_score\" => 0.75\n",
       "  \"rouge_1 / r_score\" => 0.75\n",
       "  \"rouge_1 / p_score\" => 0.75\n",
       "  \"rouge_2 / f_score\" => 0.333333\n",
       "  \"rouge_2 / r_score\" => 0.333333\n",
       "  \"rouge_2 / p_score\" => 0.333333\n",
       "  \"rouge_l / f_score\" => 0.75\n",
       "  \"rouge_l / r_score\" => 0.75\n",
       "  \"rouge_l / p_score\" => 0.75"
      ]
     },
     "execution_count": 42,
     "metadata": {},
     "output_type": "execute_result"
    }
   ],
   "source": [
    "# Testing bleu and rogue metrics for machine translation task later on.\n",
    "\n",
    "ref_corpus = [[\"Example of bleu score\"], [\"This is an apple\"]]\n",
    "translated_corpus = [\"Example to bleu score\", \"This no a apple\"]\n",
    "bleu_result = bleu_score(ref_corpus,translated_corpus)\n",
    "println(\"bleu score: $(bleu_result[1])\")\n",
    "\n",
    "hypothesis = [\"Example for bleu score\", \"This cz an apple\"]\n",
    "ref_corpus = [\"Example of bleu score\", \"This is an apple\"]\n",
    "println(\"rogue score dict:\")\n",
    "rouge_out = rouge(hypothesis, ref_corpus)\n"
   ]
  },
  {
   "cell_type": "code",
   "execution_count": null,
   "id": "83af63c1",
   "metadata": {},
   "outputs": [],
   "source": []
  }
 ],
 "metadata": {
  "kernelspec": {
   "display_name": "Julia 1.6.3",
   "language": "julia",
   "name": "julia-1.6"
  },
  "language_info": {
   "file_extension": ".jl",
   "mimetype": "application/julia",
   "name": "julia",
   "version": "1.6.3"
  }
 },
 "nbformat": 4,
 "nbformat_minor": 5
}
